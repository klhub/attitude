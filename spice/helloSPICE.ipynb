{
 "cells": [
  {
   "cell_type": "code",
   "execution_count": 1,
   "metadata": {},
   "outputs": [],
   "source": [
    "import spiceypy as spice\n",
    "import numpy as np"
   ]
  },
  {
   "cell_type": "markdown",
   "metadata": {},
   "source": [
    "## Kernels Loading"
   ]
  },
  {
   "cell_type": "code",
   "execution_count": null,
   "metadata": {},
   "outputs": [],
   "source": [
    "# Load the necessary SPICE kernels\n",
    "spice.furnsh(\"./kernels/naif0012.tls\")  # Load a leapseconds kernel\n",
    "spice.furnsh(\"./kernels/de440s.bsp\")\n",
    "spice.furnsh(\"./kernels/pck00011.tpc\")\n",
    "spice.furnsh(\"./kernels/gm_de440.tpc\")\n",
    "spice.furnsh(\"./kernels/earth_200101_990827_predict.bpc\")\n",
    "spice.furnsh(\"./kernels/earth_assoc_itrf93.tf\")\n",
    "spice.furnsh(\"./kernels/moon_assoc_me.tf\")\n",
    "# spice.furnsh(\"./kernels/moon_assoc_pa.tf\") # only me or pa, not both\n",
    "spice.furnsh(\"./kernels/moon_de440_220930.tf\")\n",
    "spice.furnsh(\"./kernels/moon_pa_de440_200625.bpc\")"
   ]
  },
  {
   "cell_type": "markdown",
   "metadata": {},
   "source": [
    "## Time Conversion\n",
    "\n",
    "Common Time Formats: -\n",
    "- Ephemeris Time (ET): A continuous time scale used for spacecraft and astronomical events.\n",
    "- UTC (Coordinated Universal Time): A time standard that combines Universal Time (UT) and atomic time.\n",
    "- TDB (Barycentric Dynamical Time): A time scale used for solar system dynamics.\n",
    "- TT (Terrestrial Time): A time standard closely related to TAI (International Atomic Time)."
   ]
  },
  {
   "cell_type": "code",
   "execution_count": 3,
   "metadata": {},
   "outputs": [
    {
     "name": "stdout",
     "output_type": "stream",
     "text": [
      "UTC: 2023-01-01T00:00:00 -> ET: 725803269.1839136\n",
      "ET: 725803269.1839136 -> UTC: 2023-01-01T00:00:00.00\n"
     ]
    }
   ],
   "source": [
    "# 1. Convert UTC to Ephemeris Time (ET)\n",
    "utc_time = '2023-01-01T00:00:00'  # ISO format\n",
    "et_time = spice.utc2et(utc_time)\n",
    "print(f'UTC: {utc_time} -> ET: {et_time}')\n",
    "\n",
    "# 2. Convert Ephemeris Time (ET) to UTC\n",
    "utc_converted = spice.et2utc(et_time, 'ISOC', 2)\n",
    "print(f'ET: {et_time} -> UTC: {utc_converted}')\n",
    "\n",
    "# 3. Convert ET to TDB\n",
    "# tdb_time = spice.et2tdb(et_time)\n",
    "# print(f'ET: {et_time} -> TDB: {tdb_time}')\n",
    "\n",
    "# 4. Convert TDB to ET\n",
    "# et_from_tdb = spice.tdb2et(tdb_time)\n",
    "# print(f'TDB: {tdb_time} -> ET: {et_from_tdb}')\n",
    "\n",
    "# 5. Convert ET to TT (Terrestrial Time)\n",
    "# tt_time = spice.et2tt(et_time)\n",
    "# print(f'ET: {et_time} -> TT: {tt_time}')\n",
    "\n",
    "# 6. Convert TT to ET\n",
    "# et_from_tt = spice.tt2et(tt_time)\n",
    "# print(f'TT: {tt_time} -> ET: {et_from_tt}')"
   ]
  },
  {
   "cell_type": "markdown",
   "metadata": {},
   "source": [
    "## Frames Transformation\n",
    "Common Coordinate Frames: -\n",
    "- J2000: An inertial frame based on the position of the Earth at the epoch J2000 (January 1, 2000).\n",
    "- ECLIPJ2000: An ecliptic coordinate frame based on the Earth's orbit around the Sun.\n",
    "- MOON_ME: A mean equatorial frame centered on the Moon.\n",
    "- MOON_PA: A pole-aligned frame centered on the Moon."
   ]
  },
  {
   "cell_type": "code",
   "execution_count": 4,
   "metadata": {},
   "outputs": [],
   "source": [
    "# Transform coordinates from one reference frame to another\n",
    "# Example: Transforming from J2000 to ECLIPJ2000\n",
    "position_j2000          = [1.0, 2.0, 3.0]  # Example coordinates in J2000\n",
    "transformation_matrix   = spice.pxform('J2000', 'ECLIPJ2000', spice.utc2et('2023-01-01T00:00:00'))\n",
    "position_ecliptic       = spice.mxv(transformation_matrix, position_j2000)"
   ]
  },
  {
   "cell_type": "markdown",
   "metadata": {},
   "source": [
    "## Position and Velocity "
   ]
  },
  {
   "cell_type": "code",
   "execution_count": 5,
   "metadata": {},
   "outputs": [
    {
     "name": "stdout",
     "output_type": "stream",
     "text": [
      "Position (km): [325449.6968924  198317.20939396  80622.99408606]\n",
      "Velocity (km/s): [-0.50488315  0.75955089  0.4249488 ]\n"
     ]
    }
   ],
   "source": [
    "# Get the position and velocity of Mars from Earth at a specific time\n",
    "et          = spice.utc2et('2023-01-01T00:00:00') # or spice.str2et(\"2023-01-01T00:00:00.000\")\n",
    "\n",
    "# Compute the state (position and velocity) of the spacecraft relative to the observer\n",
    "state, ltime    = spice.spkezr(\"MOON\", et, \"J2000\", \"NONE\", \"EARTH\")\n",
    "position        = state[0:3]  # Position vector\n",
    "velocity        = state[3:6]  # Velocity vector\n",
    "\n",
    "# Output the results\n",
    "print(\"Position (km):\", position)\n",
    "print(\"Velocity (km/s):\", velocity)"
   ]
  },
  {
   "cell_type": "markdown",
   "metadata": {},
   "source": [
    "## Light-Time Correction"
   ]
  },
  {
   "cell_type": "code",
   "execution_count": 6,
   "metadata": {},
   "outputs": [
    {
     "ename": "TypeError",
     "evalue": "'float' object cannot be interpreted as an integer",
     "output_type": "error",
     "traceback": [
      "\u001b[0;31m---------------------------------------------------------------------------\u001b[0m",
      "\u001b[0;31mTypeError\u001b[0m                                 Traceback (most recent call last)",
      "\u001b[0;32m/tmp/ipykernel_290408/2157994258.py\u001b[0m in \u001b[0;36m?\u001b[0;34m()\u001b[0m\n\u001b[1;32m      3\u001b[0m \u001b[0met_moon\u001b[0m     \u001b[0;34m=\u001b[0m \u001b[0mspice\u001b[0m\u001b[0;34m.\u001b[0m\u001b[0mutc2et\u001b[0m\u001b[0;34m(\u001b[0m\u001b[0;34m'2023-01-01T00:05:00'\u001b[0m\u001b[0;34m)\u001b[0m  \u001b[0;31m# Example time 5 minutes later\u001b[0m\u001b[0;34m\u001b[0m\u001b[0;34m\u001b[0m\u001b[0m\n\u001b[1;32m      4\u001b[0m \u001b[0;34m\u001b[0m\u001b[0m\n\u001b[1;32m      5\u001b[0m \u001b[0;31m# Direct should be set to 'FROM' for light-time from the observer to the target\u001b[0m\u001b[0;34m\u001b[0m\u001b[0;34m\u001b[0m\u001b[0m\n\u001b[1;32m      6\u001b[0m \u001b[0;31m# Targ is the target body (e.g., 'MOON')\u001b[0m\u001b[0;34m\u001b[0m\u001b[0;34m\u001b[0m\u001b[0m\n\u001b[0;32m----> 7\u001b[0;31m \u001b[0mlight_time\u001b[0m  \u001b[0;34m=\u001b[0m \u001b[0mspice\u001b[0m\u001b[0;34m.\u001b[0m\u001b[0mltime\u001b[0m\u001b[0;34m(\u001b[0m\u001b[0met_moon\u001b[0m\u001b[0;34m,\u001b[0m \u001b[0met_earth\u001b[0m\u001b[0;34m,\u001b[0m \u001b[0;34m'FROM'\u001b[0m\u001b[0;34m,\u001b[0m \u001b[0;34m'MOON'\u001b[0m\u001b[0;34m)\u001b[0m\u001b[0;34m\u001b[0m\u001b[0;34m\u001b[0m\u001b[0m\n\u001b[0m\u001b[1;32m      8\u001b[0m \u001b[0mprint\u001b[0m\u001b[0;34m(\u001b[0m\u001b[0;34mf'\u001b[0m\u001b[0;34mLight-time: \u001b[0m\u001b[0;34m{\u001b[0m\u001b[0mlight_time\u001b[0m\u001b[0;34m}\u001b[0m\u001b[0;34m seconds\u001b[0m\u001b[0;34m'\u001b[0m\u001b[0;34m)\u001b[0m\u001b[0;34m\u001b[0m\u001b[0;34m\u001b[0m\u001b[0m\n",
      "\u001b[0;32m~/miniconda3/envs/startracker/lib/python3.12/site-packages/spiceypy/spiceypy.py\u001b[0m in \u001b[0;36m?\u001b[0;34m(*args, **kwargs)\u001b[0m\n\u001b[1;32m    138\u001b[0m             \u001b[0mres\u001b[0m \u001b[0;34m=\u001b[0m \u001b[0mf\u001b[0m\u001b[0;34m(\u001b[0m\u001b[0;34m*\u001b[0m\u001b[0margs\u001b[0m\u001b[0;34m,\u001b[0m \u001b[0;34m**\u001b[0m\u001b[0mkwargs\u001b[0m\u001b[0;34m)\u001b[0m\u001b[0;34m\u001b[0m\u001b[0;34m\u001b[0m\u001b[0m\n\u001b[1;32m    139\u001b[0m             \u001b[0mcheck_for_spice_error\u001b[0m\u001b[0;34m(\u001b[0m\u001b[0mf\u001b[0m\u001b[0;34m)\u001b[0m\u001b[0;34m\u001b[0m\u001b[0;34m\u001b[0m\u001b[0m\n\u001b[1;32m    140\u001b[0m             \u001b[0;32mreturn\u001b[0m \u001b[0mres\u001b[0m\u001b[0;34m\u001b[0m\u001b[0;34m\u001b[0m\u001b[0m\n\u001b[1;32m    141\u001b[0m         \u001b[0;32mexcept\u001b[0m \u001b[0mBaseException\u001b[0m\u001b[0;34m:\u001b[0m\u001b[0;34m\u001b[0m\u001b[0;34m\u001b[0m\u001b[0m\n\u001b[0;32m--> 142\u001b[0;31m             \u001b[0;32mraise\u001b[0m\u001b[0;34m\u001b[0m\u001b[0;34m\u001b[0m\u001b[0m\n\u001b[0m",
      "\u001b[0;32m~/miniconda3/envs/startracker/lib/python3.12/site-packages/spiceypy/spiceypy.py\u001b[0m in \u001b[0;36m?\u001b[0;34m(etobs, obs, direct, targ)\u001b[0m\n\u001b[1;32m   9458\u001b[0m     \u001b[0;34m:\u001b[0m\u001b[0mparam\u001b[0m \u001b[0mtarg\u001b[0m\u001b[0;34m:\u001b[0m \u001b[0mNAIF\u001b[0m \u001b[0mID\u001b[0m \u001b[0mof\u001b[0m \u001b[0mthe\u001b[0m \u001b[0mtarget\u001b[0m \u001b[0mobject\u001b[0m\u001b[0;34m\u001b[0m\u001b[0;34m\u001b[0m\u001b[0m\n\u001b[1;32m   9459\u001b[0m     \u001b[0;34m:\u001b[0m\u001b[0;32mreturn\u001b[0m\u001b[0;34m:\u001b[0m \u001b[0mepoch\u001b[0m \u001b[0;32mand\u001b[0m \u001b[0mtime\u001b[0m\u001b[0;34m\u001b[0m\u001b[0;34m\u001b[0m\u001b[0m\n\u001b[1;32m   9460\u001b[0m     \"\"\"\n\u001b[1;32m   9461\u001b[0m     \u001b[0metobs\u001b[0m \u001b[0;34m=\u001b[0m \u001b[0mctypes\u001b[0m\u001b[0;34m.\u001b[0m\u001b[0mc_double\u001b[0m\u001b[0;34m(\u001b[0m\u001b[0metobs\u001b[0m\u001b[0;34m)\u001b[0m\u001b[0;34m\u001b[0m\u001b[0;34m\u001b[0m\u001b[0m\n\u001b[0;32m-> 9462\u001b[0;31m     \u001b[0mobs\u001b[0m \u001b[0;34m=\u001b[0m \u001b[0mctypes\u001b[0m\u001b[0;34m.\u001b[0m\u001b[0mc_int\u001b[0m\u001b[0;34m(\u001b[0m\u001b[0mobs\u001b[0m\u001b[0;34m)\u001b[0m\u001b[0;34m\u001b[0m\u001b[0;34m\u001b[0m\u001b[0m\n\u001b[0m\u001b[1;32m   9463\u001b[0m     \u001b[0mdirect\u001b[0m \u001b[0;34m=\u001b[0m \u001b[0mstypes\u001b[0m\u001b[0;34m.\u001b[0m\u001b[0mstring_to_char_p\u001b[0m\u001b[0;34m(\u001b[0m\u001b[0mdirect\u001b[0m\u001b[0;34m)\u001b[0m\u001b[0;34m\u001b[0m\u001b[0;34m\u001b[0m\u001b[0m\n\u001b[1;32m   9464\u001b[0m     \u001b[0mtarg\u001b[0m \u001b[0;34m=\u001b[0m \u001b[0mctypes\u001b[0m\u001b[0;34m.\u001b[0m\u001b[0mc_int\u001b[0m\u001b[0;34m(\u001b[0m\u001b[0mtarg\u001b[0m\u001b[0;34m)\u001b[0m\u001b[0;34m\u001b[0m\u001b[0;34m\u001b[0m\u001b[0m\n\u001b[1;32m   9465\u001b[0m     \u001b[0mettarg\u001b[0m \u001b[0;34m=\u001b[0m \u001b[0mctypes\u001b[0m\u001b[0;34m.\u001b[0m\u001b[0mc_double\u001b[0m\u001b[0;34m(\u001b[0m\u001b[0;34m)\u001b[0m\u001b[0;34m\u001b[0m\u001b[0;34m\u001b[0m\u001b[0m\n",
      "\u001b[0;31mTypeError\u001b[0m: 'float' object cannot be interpreted as an integer"
     ]
    }
   ],
   "source": [
    "# Assume we want to calculate the light-time from Earth to Mars\n",
    "et_earth    = spice.utc2et('2023-01-01T00:00:00')\n",
    "et_moon     = spice.utc2et('2023-01-01T00:05:00')  # Example time 5 minutes later\n",
    "\n",
    "# Direct should be set to 'FROM' for light-time from the observer to the target\n",
    "# Targ is the target body (e.g., 'MOON')\n",
    "light_time  = spice.ltime(et_moon, et_earth, 'FROM', 'MOON')\n",
    "print(f'Light-time: {light_time} seconds')"
   ]
  },
  {
   "cell_type": "markdown",
   "metadata": {},
   "source": [
    "## Observation Geometry"
   ]
  },
  {
   "cell_type": "code",
   "execution_count": 7,
   "metadata": {},
   "outputs": [
    {
     "ename": "TypeError",
     "evalue": "subpt() missing 1 required positional argument: 'obsrvr'",
     "output_type": "error",
     "traceback": [
      "\u001b[0;31m---------------------------------------------------------------------------\u001b[0m",
      "\u001b[0;31mTypeError\u001b[0m                                 Traceback (most recent call last)",
      "\u001b[0;32m/tmp/ipykernel_290408/2982782278.py\u001b[0m in \u001b[0;36m?\u001b[0;34m()\u001b[0m\n\u001b[1;32m      1\u001b[0m \u001b[0;31m# Find the sub-point on Mars from the position of the spacecraft\u001b[0m\u001b[0;34m\u001b[0m\u001b[0;34m\u001b[0m\u001b[0m\n\u001b[1;32m      2\u001b[0m \u001b[0mspacecraft_pos\u001b[0m  \u001b[0;34m=\u001b[0m \u001b[0;34m[\u001b[0m\u001b[0;36m1.0\u001b[0m\u001b[0;34m,\u001b[0m \u001b[0;36m2.0\u001b[0m\u001b[0;34m,\u001b[0m \u001b[0;36m3.0\u001b[0m\u001b[0;34m]\u001b[0m  \u001b[0;31m# Example spacecraft position in ECLIPJ2000\u001b[0m\u001b[0;34m\u001b[0m\u001b[0;34m\u001b[0m\u001b[0m\n\u001b[0;32m----> 3\u001b[0;31m \u001b[0msubpoint\u001b[0m        \u001b[0;34m=\u001b[0m \u001b[0mspice\u001b[0m\u001b[0;34m.\u001b[0m\u001b[0msubpt\u001b[0m\u001b[0;34m(\u001b[0m\u001b[0;34m'Intercept'\u001b[0m\u001b[0;34m,\u001b[0m \u001b[0;34m'MOON'\u001b[0m\u001b[0;34m,\u001b[0m \u001b[0met\u001b[0m\u001b[0;34m,\u001b[0m \u001b[0mspacecraft_pos\u001b[0m\u001b[0;34m)\u001b[0m\u001b[0;34m\u001b[0m\u001b[0;34m\u001b[0m\u001b[0m\n\u001b[0m\u001b[1;32m      4\u001b[0m \u001b[0mprint\u001b[0m\u001b[0;34m(\u001b[0m\u001b[0;34mf'\u001b[0m\u001b[0;34mSub-point on Moon: \u001b[0m\u001b[0;34m{\u001b[0m\u001b[0msubpoint\u001b[0m\u001b[0;34m}\u001b[0m\u001b[0;34m'\u001b[0m\u001b[0;34m)\u001b[0m\u001b[0;34m\u001b[0m\u001b[0;34m\u001b[0m\u001b[0m\n",
      "\u001b[0;32m~/miniconda3/envs/startracker/lib/python3.12/site-packages/spiceypy/spiceypy.py\u001b[0m in \u001b[0;36m?\u001b[0;34m(*args, **kwargs)\u001b[0m\n\u001b[1;32m    138\u001b[0m             \u001b[0mres\u001b[0m \u001b[0;34m=\u001b[0m \u001b[0mf\u001b[0m\u001b[0;34m(\u001b[0m\u001b[0;34m*\u001b[0m\u001b[0margs\u001b[0m\u001b[0;34m,\u001b[0m \u001b[0;34m**\u001b[0m\u001b[0mkwargs\u001b[0m\u001b[0;34m)\u001b[0m\u001b[0;34m\u001b[0m\u001b[0;34m\u001b[0m\u001b[0m\n\u001b[1;32m    139\u001b[0m             \u001b[0mcheck_for_spice_error\u001b[0m\u001b[0;34m(\u001b[0m\u001b[0mf\u001b[0m\u001b[0;34m)\u001b[0m\u001b[0;34m\u001b[0m\u001b[0;34m\u001b[0m\u001b[0m\n\u001b[1;32m    140\u001b[0m             \u001b[0;32mreturn\u001b[0m \u001b[0mres\u001b[0m\u001b[0;34m\u001b[0m\u001b[0;34m\u001b[0m\u001b[0m\n\u001b[1;32m    141\u001b[0m         \u001b[0;32mexcept\u001b[0m \u001b[0mBaseException\u001b[0m\u001b[0;34m:\u001b[0m\u001b[0;34m\u001b[0m\u001b[0;34m\u001b[0m\u001b[0m\n\u001b[0;32m--> 142\u001b[0;31m             \u001b[0;32mraise\u001b[0m\u001b[0;34m\u001b[0m\u001b[0;34m\u001b[0m\u001b[0m\n\u001b[0m",
      "\u001b[0;31mTypeError\u001b[0m: subpt() missing 1 required positional argument: 'obsrvr'"
     ]
    }
   ],
   "source": [
    "# Find the sub-point on Mars from the position of the spacecraft\n",
    "spacecraft_pos  = [1.0, 2.0, 3.0]  # Example spacecraft position in ECLIPJ2000\n",
    "subpoint        = spice.subpt('Intercept', 'MOON', et, spacecraft_pos)\n",
    "print(f'Sub-point on Moon: {subpoint}')\n"
   ]
  },
  {
   "cell_type": "markdown",
   "metadata": {},
   "source": [
    "## Rotation and Orientation"
   ]
  },
  {
   "cell_type": "code",
   "execution_count": null,
   "metadata": {},
   "outputs": [
    {
     "name": "stdout",
     "output_type": "stream",
     "text": [
      "[[-1.75307269e-01  9.84513702e-01  3.62822322e-04]\n",
      " [-9.84511281e-01 -1.75307643e-01  2.18365552e-03]\n",
      " [ 2.21344431e-03  2.56080185e-05  9.99997550e-01]]\n"
     ]
    }
   ],
   "source": [
    "# Determine the rotation from J2000 to ITRF93\n",
    "et              = spice.utc2et('2023-01-01T00:00:00')\n",
    "rotation_matrix = spice.pxform('J2000', 'ITRF93', et) # from J2000 to ITRF93\n",
    "print(rotation_matrix)"
   ]
  },
  {
   "cell_type": "markdown",
   "metadata": {},
   "source": [
    "## Planetary Ephemeris"
   ]
  },
  {
   "cell_type": "code",
   "execution_count": null,
   "metadata": {},
   "outputs": [
    {
     "name": "stdout",
     "output_type": "stream",
     "text": [
      "Venus State: (array([ 3.25449697e+05,  1.98317209e+05,  8.06229941e+04, -5.04883150e-01,\n",
      "        7.59550892e-01,  4.24948798e-01]), 1.2993907357498393)\n"
     ]
    }
   ],
   "source": [
    "# Retrieve the state of Moon with respect to Earth\n",
    "et              = spice.utc2et('2023-01-01T00:00:00')\n",
    "venus_state     = spice.spkezr('MOON', et, 'J2000', 'NONE', 'EARTH') # state vector from Earth to Moon\n",
    "print(f'Venus State: {venus_state}')"
   ]
  },
  {
   "cell_type": "markdown",
   "metadata": {},
   "source": [
    "## Clearing SPICE kernels"
   ]
  },
  {
   "cell_type": "code",
   "execution_count": null,
   "metadata": {},
   "outputs": [],
   "source": [
    "# Unload the kernels after use\n",
    "spice.kclear()"
   ]
  }
 ],
 "metadata": {
  "kernelspec": {
   "display_name": "startracker",
   "language": "python",
   "name": "python3"
  },
  "language_info": {
   "codemirror_mode": {
    "name": "ipython",
    "version": 3
   },
   "file_extension": ".py",
   "mimetype": "text/x-python",
   "name": "python",
   "nbconvert_exporter": "python",
   "pygments_lexer": "ipython3",
   "version": "3.12.5"
  }
 },
 "nbformat": 4,
 "nbformat_minor": 4
}
